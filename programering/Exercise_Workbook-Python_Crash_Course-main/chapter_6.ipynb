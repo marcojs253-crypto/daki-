{
 "cells": [
  {
   "cell_type": "markdown",
   "id": "9e111d82",
   "metadata": {},
   "source": [
    "# Python Crash Course - Chapter 6: Dictionaries\n",
    "\n",
    "This notebook contains exercises from Chapter 6 of Python Crash Course by Eric Matthes. Each exercise focuses on working with dictionaries - one of Python's most powerful data types.\n",
    "\n",
    "## Learning Objectives:\n",
    "- Create and manipulate dictionaries\n",
    "- Access and modify dictionary values\n",
    "- Loop through dictionaries\n",
    "- Nest dictionaries and lists\n",
    "- Use dictionaries to model real-world objects\n",
    "\n",
    "---\n",
    "\n",
    "## 6-1 Person"
   ]
  },
  {
   "cell_type": "code",
   "execution_count": null,
   "id": "4adf04db",
   "metadata": {},
   "outputs": [
    {
     "name": "stdout",
     "output_type": "stream",
     "text": [
      "{'age': 50, 'height': 2, 'loudness': 'medium', 'f_name': 'tom', 'l_name': 'Brand', 'city': 'aarhus'}\n",
      "50\n",
      "['age', 'height', 'loudness', 'f_name', 'l_name', 'city']\n"
     ]
    }
   ],
   "source": [
    "# Exercise 6-1: Person\n",
    "# Use a dictionary to store information about a person you know.\n",
    "# Store their first name, last name, age, and the city in which they live.\n",
    "# Print each piece of information stored in your dictionary.\n",
    "\n",
    "# Example structure - replace with your own data\n",
    "person = {\n",
    "    'first_name': '',\n",
    "    'last_name': '',\n",
    "    'age': 0,\n",
    "    'city': ''\n",
    "}\n",
    "\n",
    "# Here I will write the code and corresponding comments to complete the training tasks"
   ]
  },
  {
   "cell_type": "markdown",
   "id": "d44b4781",
   "metadata": {},
   "source": [
    "## 6-2 Favorite Numbers"
   ]
  },
  {
   "cell_type": "code",
   "execution_count": null,
   "id": "94bb318d",
   "metadata": {},
   "outputs": [
    {
     "name": "stdout",
     "output_type": "stream",
     "text": [
      "b's favorite number is 2.\n"
     ]
    }
   ],
   "source": [
    "# Exercise 6-2: Favorite Numbers\n",
    "# Use a dictionary to store people's favorite numbers.\n",
    "# Think of five names, and use them as keys in your dictionary.\n",
    "# Think of a favorite number for each person, and store each as a value in your dictionary.\n",
    "# Print each person's name and their favorite number.\n",
    "\n",
    "# Example structure - replace with your own data\n",
    "favorite_numbers = {\n",
    "    'alice': 0,\n",
    "    'bob': 0,\n",
    "    'charlie': 0,\n",
    "    'diana': 0,\n",
    "    'ethan': 0\n",
    "}\n",
    "\n",
    "# Here I will write the code and corresponding comments to complete the training tasks"
   ]
  },
  {
   "cell_type": "markdown",
   "id": "c5d4654b",
   "metadata": {},
   "source": [
    "## 6-3 Glossary"
   ]
  },
  {
   "cell_type": "code",
   "execution_count": null,
   "id": "fac1b92c",
   "metadata": {},
   "outputs": [
    {
     "name": "stdout",
     "output_type": "stream",
     "text": [
      "A dictionary is one convenient way to puposefully matching keys and values.\n"
     ]
    }
   ],
   "source": [
    "# Exercise 6-3: Glossary\n",
    "# A Python dictionary can be used to model an actual dictionary.\n",
    "# Think of five programming words you've learned about in the previous chapters.\n",
    "# Use these words as the keys in your dictionary, and store their meanings as values.\n",
    "# Print each word and its meaning as neatly formatted output.\n",
    "\n",
    "# Example structure - add your own programming terms and definitions\n",
    "glossary = {\n",
    "    'variable': '',\n",
    "    'list': '',\n",
    "    'dictionary': '',\n",
    "    'function': '',\n",
    "    'loop': ''\n",
    "}\n",
    "\n",
    "# Here I will write the code and corresponding comments to complete the training tasks"
   ]
  },
  {
   "cell_type": "markdown",
   "id": "171be8c9",
   "metadata": {},
   "source": [
    "## 6-4 Glossary 2"
   ]
  },
  {
   "cell_type": "code",
   "execution_count": null,
   "id": "65168fda",
   "metadata": {},
   "outputs": [],
   "source": [
    "# Exercise 6-4: Glossary 2\n",
    "# Now that you know how to loop through a dictionary, clean up the code from Exercise 6-3\n",
    "# by replacing your series of print() calls with a loop that runs through the dictionary's\n",
    "# keys and values. When you're sure that your loop works, add five more Python terms to your glossary.\n",
    "\n",
    "# Extended glossary with more terms\n",
    "glossary_extended = {\n",
    "    'variable': 'A name that refers to a value',\n",
    "    'list': 'A collection of items in a particular order',\n",
    "    'dictionary': 'A collection of key-value pairs',\n",
    "    'function': 'A named block of code that performs a specific task',\n",
    "    'loop': 'A structure that repeats a block of code',\n",
    "    'string': 'A series of characters',\n",
    "    'integer': 'A whole number',\n",
    "    'float': 'A number with a decimal point',\n",
    "    'boolean': 'A value that is either True or False',\n",
    "    'conditional': 'A test that evaluates to True or False'\n",
    "}\n",
    "\n",
    "# Here I will write the code and corresponding comments to complete the training tasks"
   ]
  },
  {
   "cell_type": "markdown",
   "id": "8c7a129b",
   "metadata": {},
   "source": [
    "## 6-5 Rivers"
   ]
  },
  {
   "cell_type": "code",
   "execution_count": null,
   "id": "4380d886",
   "metadata": {},
   "outputs": [],
   "source": [
    "# Exercise 6-5: Rivers\n",
    "# Make a dictionary containing three major rivers and the country each river runs through.\n",
    "# One key-value pair might be 'nile': 'egypt'.\n",
    "# • Use a loop to print the name of each river and the country it runs through.\n",
    "# • Use a loop to print the name of each river included in the dictionary.\n",
    "# • Use a loop to print the name of each country included in the dictionary.\n",
    "\n",
    "# Example structure - replace with your own rivers and countries\n",
    "rivers = {\n",
    "    'nile': 'egypt',\n",
    "    'amazon': 'brazil', \n",
    "    'mississippi': 'united states'\n",
    "}\n",
    "\n",
    "# Here I will write the code and corresponding comments to complete the training tasks"
   ]
  },
  {
   "cell_type": "markdown",
   "id": "9924bbb7",
   "metadata": {},
   "source": [
    "## 6-6 Polling"
   ]
  },
  {
   "cell_type": "code",
   "execution_count": null,
   "id": "ad24c041",
   "metadata": {},
   "outputs": [],
   "source": [
    "# Exercise 6-6: Polling\n",
    "# Use the code in favorite_languages.py (page 97) to make a dictionary.\n",
    "# Make a list of people who should take the favorite languages poll. Include some names\n",
    "# that are already in the dictionary and some that are not.\n",
    "# Loop through the list of people who should take the poll. If they have already taken\n",
    "# the poll, print a message thanking them for responding. If they have not yet taken\n",
    "# the poll, print a message inviting them to take the poll.\n",
    "\n",
    "# Dictionary of people who have already taken the poll\n",
    "favorite_languages = {\n",
    "    'jen': 'python',\n",
    "    'sarah': 'c',\n",
    "    'edward': 'ruby',\n",
    "    'phil': 'python',\n",
    "}\n",
    "\n",
    "# List of people who should take the poll (mix of those who have and haven't taken it)\n",
    "poll_participants = ['jen', 'sarah', 'mike', 'alice', 'edward', 'bob', 'phil', 'diana']\n",
    "\n",
    "# Here I will write the code and corresponding comments to complete the training tasks"
   ]
  },
  {
   "cell_type": "markdown",
   "id": "56962d60",
   "metadata": {},
   "source": [
    "---\n",
    "\n",
    "# Nesting Exercises\n",
    "\n",
    "The following exercises focus on nesting - storing dictionaries in lists, lists in dictionaries, and dictionaries in dictionaries.\n",
    "\n",
    "## 6-7 People"
   ]
  },
  {
   "cell_type": "code",
   "execution_count": null,
   "id": "ecbe0def",
   "metadata": {},
   "outputs": [],
   "source": [
    "# Exercise 6-7: People\n",
    "# Start with the program you wrote for Exercise 6-1. Make two new dictionaries\n",
    "# representing different people, and store all three dictionaries in a list called people.\n",
    "# Loop through your list of people. As you loop through the list, print everything\n",
    "# you know about each person.\n",
    "\n",
    "# Example structure - create three person dictionaries\n",
    "person_1 = {\n",
    "    'first_name': 'alice',\n",
    "    'last_name': 'johnson',\n",
    "    'age': 28,\n",
    "    'city': 'new york'\n",
    "}\n",
    "\n",
    "person_2 = {\n",
    "    'first_name': 'bob',\n",
    "    'last_name': 'smith',\n",
    "    'age': 35,\n",
    "    'city': 'chicago'\n",
    "}\n",
    "\n",
    "person_3 = {\n",
    "    'first_name': 'charlie',\n",
    "    'last_name': 'brown',\n",
    "    'age': 42,\n",
    "    'city': 'los angeles'\n",
    "}\n",
    "\n",
    "# List of people dictionaries\n",
    "people = [person_1, person_2, person_3]\n",
    "\n",
    "# Here I will write the code and corresponding comments to complete the training tasks"
   ]
  },
  {
   "cell_type": "markdown",
   "id": "41eb20b3",
   "metadata": {},
   "source": [
    "## 6-8 Pets"
   ]
  },
  {
   "cell_type": "code",
   "execution_count": null,
   "id": "dbfe0191",
   "metadata": {},
   "outputs": [],
   "source": [
    "# Exercise 6-8: Pets\n",
    "# Make several dictionaries, where each dictionary represents a different pet.\n",
    "# In each dictionary, include the kind of animal and the owner's name.\n",
    "# Store these dictionaries in a list called pets. Next, loop through your list\n",
    "# and as you do, print everything you know about each pet.\n",
    "\n",
    "# Example structure - create pet dictionaries\n",
    "pet_1 = {\n",
    "    'name': 'buddy',\n",
    "    'kind': 'dog',\n",
    "    'owner': 'alice'\n",
    "}\n",
    "\n",
    "pet_2 = {\n",
    "    'name': 'whiskers',\n",
    "    'kind': 'cat',\n",
    "    'owner': 'bob'\n",
    "}\n",
    "\n",
    "pet_3 = {\n",
    "    'name': 'goldie',\n",
    "    'kind': 'fish',\n",
    "    'owner': 'charlie'\n",
    "}\n",
    "\n",
    "# List of pets\n",
    "pets = [pet_1, pet_2, pet_3]\n",
    "\n",
    "# Here I will write the code and corresponding comments to complete the training tasks"
   ]
  },
  {
   "cell_type": "markdown",
   "id": "5c023209",
   "metadata": {},
   "source": [
    "## 6-9 Favorite Places"
   ]
  },
  {
   "cell_type": "code",
   "execution_count": null,
   "id": "32e05e4f",
   "metadata": {},
   "outputs": [],
   "source": [
    "# Exercise 6-9: Favorite Places\n",
    "# Make a dictionary called favorite_places. Think of three names to use as keys\n",
    "# in the dictionary, and store one to three favorite places for each person.\n",
    "# To make this exercise a bit more interesting, ask some friends to name a few\n",
    "# of their favorite places. Loop through the dictionary, and print each person's\n",
    "# name and their favorite places.\n",
    "\n",
    "# Example structure - each person can have multiple favorite places\n",
    "favorite_places = {\n",
    "    'alice': ['tokyo', 'paris', 'new york'],\n",
    "    'bob': ['london', 'sydney'],\n",
    "    'charlie': ['barcelona', 'rome', 'amsterdam', 'berlin']\n",
    "}\n",
    "\n",
    "# Here I will write the code and corresponding comments to complete the training tasks"
   ]
  },
  {
   "cell_type": "markdown",
   "id": "d27165ef",
   "metadata": {},
   "source": [
    "## 6-10 Favorite Numbers"
   ]
  },
  {
   "cell_type": "code",
   "execution_count": null,
   "id": "565eabc0",
   "metadata": {},
   "outputs": [],
   "source": [
    "# Exercise 6-10: Favorite Numbers\n",
    "# Modify your program from Exercise 6-2 so each person can have more than one favorite number.\n",
    "# Then print each person's name along with their favorite numbers.\n",
    "\n",
    "# Example structure - each person can have multiple favorite numbers\n",
    "favorite_numbers_extended = {\n",
    "    'alice': [7, 13, 42],\n",
    "    'bob': [3, 21],\n",
    "    'charlie': [9, 17, 25, 33],\n",
    "    'diana': [2, 8],\n",
    "    'ethan': [11, 23, 37]\n",
    "}\n",
    "\n",
    "# Here I will write the code and corresponding comments to complete the training tasks"
   ]
  },
  {
   "cell_type": "markdown",
   "id": "faaa5160",
   "metadata": {},
   "source": [
    "## 6-11 Cities"
   ]
  },
  {
   "cell_type": "code",
   "execution_count": null,
   "id": "982f65d1",
   "metadata": {},
   "outputs": [],
   "source": [
    "# Exercise 6-11: Cities\n",
    "# Make a dictionary called cities. Use the names of three cities as keys in your dictionary.\n",
    "# Create a dictionary of information about each city and include the country that the city is in,\n",
    "# its approximate population, and one fact about that city. The keys for each city's dictionary\n",
    "# should be something like country, population, and fact. Print the name of each city and all\n",
    "# of the information you have stored about it.\n",
    "\n",
    "# Example structure - nested dictionaries\n",
    "cities = {\n",
    "    'tokyo': {\n",
    "        'country': 'japan',\n",
    "        'population': 37_400_000,\n",
    "        'fact': 'largest metropolitan area in the world'\n",
    "    },\n",
    "    'paris': {\n",
    "        'country': 'france',\n",
    "        'population': 2_200_000,\n",
    "        'fact': 'home to the eiffel tower'\n",
    "    },\n",
    "    'new_york': {\n",
    "        'country': 'united states',\n",
    "        'population': 8_400_000,\n",
    "        'fact': 'never sleeps'\n",
    "    }\n",
    "}\n",
    "\n",
    "# Here I will write the code and corresponding comments to complete the training tasks"
   ]
  },
  {
   "cell_type": "markdown",
   "id": "0f1ae9b6",
   "metadata": {},
   "source": [
    "---\n",
    "\n",
    "## Summary\n",
    "\n",
    "Congratulations! You've completed all the exercises for Chapter 6 on Dictionaries. You should now be comfortable with:\n",
    "\n",
    "- Creating and manipulating dictionaries\n",
    "- Accessing dictionary values using keys\n",
    "- Looping through dictionaries (keys, values, and key-value pairs)\n",
    "- Nesting data structures:\n",
    "  - Lists of dictionaries\n",
    "  - Lists as dictionary values\n",
    "  - Dictionaries as dictionary values\n",
    "\n",
    "**Key Concepts Practiced:**\n",
    "- Dictionary syntax and operations\n",
    "- The `.keys()`, `.values()`, and `.items()` methods\n",
    "- Using dictionaries to model real-world objects\n",
    "- Complex data structures for organizing related information\n",
    "\n",
    "**Next Steps:** \n",
    "- Review any exercises you found challenging\n",
    "- Try creating your own dictionary-based programs\n",
    "- Move on to Chapter 7: User Input and While Loops\n",
    "\n",
    "---\n",
    "\n",
    "*Note: Remember to run each cell to test your code and verify the outputs match your expectations!*"
   ]
  }
 ],
 "metadata": {
  "kernelspec": {
   "display_name": "Python 3",
   "language": "python",
   "name": "python3"
  },
  "language_info": {
   "codemirror_mode": {
    "name": "ipython",
    "version": 3
   },
   "file_extension": ".py",
   "mimetype": "text/x-python",
   "name": "python",
   "nbconvert_exporter": "python",
   "pygments_lexer": "ipython3",
   "version": "3.13.7"
  }
 },
 "nbformat": 4,
 "nbformat_minor": 5
}
