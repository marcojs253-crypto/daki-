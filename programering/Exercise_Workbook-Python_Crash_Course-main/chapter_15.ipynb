{
 "cells": [
  {
   "cell_type": "markdown",
   "id": "b044566d",
   "metadata": {},
   "source": [
    "# Python Crash Course - Chapter 15: Generating Data\n",
    "\n",
    "This notebook contains exercises from Chapter 15 of Python Crash Course by Eric Matthes. This chapter focuses on generating data and creating visualizations using matplotlib, exploring patterns in data through charts and graphs.\n",
    "\n",
    "## Learning Objectives:\n",
    "- Install and use matplotlib for data visualization\n",
    "- Create line graphs, scatter plots, and bar charts\n",
    "- Customize plot appearance with colors, labels, and formatting\n",
    "- Generate and visualize mathematical data\n",
    "- Work with random data and random walks\n",
    "- Handle large datasets efficiently\n",
    "- Save plots to files\n",
    "\n",
    "---\n",
    "\n",
    "## Setup: Required Imports\n",
    "\n",
    "First, let's import the libraries we'll need for this chapter:"
   ]
  },
  {
   "cell_type": "code",
   "execution_count": null,
   "id": "ecb76e8f",
   "metadata": {},
   "outputs": [],
   "source": [
    "# Required imports for Chapter 15 exercises\n",
    "import matplotlib.pyplot as plt\n",
    "import random\n",
    "from random import choice\n",
    "\n",
    "# Test imports and show matplotlib version\n",
    "print(f\"Matplotlib version: {plt.matplotlib.__version__}\")\n",
    "print(\"All imports successful!\")\n",
    "print(\"Ready to generate data and create visualizations!\")"
   ]
  },
  {
   "cell_type": "markdown",
   "id": "64fe66d3",
   "metadata": {},
   "source": [
    "## 15-1 Cubes"
   ]
  },
  {
   "cell_type": "code",
   "execution_count": null,
   "id": "639ba178",
   "metadata": {},
   "outputs": [],
   "source": [
    "# Exercise 15-1: Cubes\n",
    "# A number raised to the third power is a cube. Plot the first five cubic numbers,\n",
    "# and then plot the first 5000 cubic numbers.\n",
    "\n",
    "# Here I will write the code and corresponding comments to complete the training tasks"
   ]
  },
  {
   "cell_type": "markdown",
   "id": "828ef31a",
   "metadata": {},
   "source": [
    "## 15-2 Colored Cubes"
   ]
  },
  {
   "cell_type": "code",
   "execution_count": null,
   "id": "d4e68721",
   "metadata": {},
   "outputs": [],
   "source": [
    "# Exercise 15-2: Colored Cubes\n",
    "# Apply a colormap to your cubes plot. A colormap varies the point colors from one color\n",
    "# to another. To use a colormap, call plt.scatter() with the argument c=y_values and\n",
    "# cmap=plt.cm.Blues. Experiment with different colormaps; you can see them at\n",
    "# https://matplotlib.org/stable/tutorials/colors/colormaps.html.\n",
    "\n",
    "# Here I will write the code and corresponding comments to complete the training tasks"
   ]
  },
  {
   "cell_type": "markdown",
   "id": "023c10d9",
   "metadata": {},
   "source": [
    "## 15-3 Molecular Motion"
   ]
  },
  {
   "cell_type": "code",
   "execution_count": null,
   "id": "047f97de",
   "metadata": {},
   "outputs": [],
   "source": [
    "# Exercise 15-3: Molecular Motion\n",
    "# Modify rw_visual.py by replacing plt.scatter() with plt.plot(). To simulate\n",
    "# the path of a pollen grain on the surface of a drop of water, pass in the\n",
    "# rw.x_values and rw.y_values, and include a linewidth argument.\n",
    "# Use 5000 instead of 50,000 points.\n",
    "\n",
    "class RandomWalk:\n",
    "    \"\"\"A class to generate random walks.\"\"\"\n",
    "    \n",
    "    def __init__(self, num_points=5000):\n",
    "        \"\"\"Initialize attributes of a walk.\"\"\"\n",
    "        # Here I will write the code and corresponding comments to complete the training tasks\n",
    "        pass\n",
    "    \n",
    "    def fill_walk(self):\n",
    "        \"\"\"Calculate all the points in the walk.\"\"\"\n",
    "        # Here I will write the code and corresponding comments to complete the training tasks\n",
    "        pass\n",
    "    \n",
    "    def get_step(self):\n",
    "        \"\"\"Determine the direction and distance for each step.\"\"\"\n",
    "        # Here I will write the code and corresponding comments to complete the training tasks\n",
    "        pass\n",
    "\n",
    "# Create and visualize the molecular motion\n",
    "# Here I will write the code and corresponding comments to complete the training tasks"
   ]
  },
  {
   "cell_type": "markdown",
   "id": "96a8216c",
   "metadata": {},
   "source": [
    "## 15-4 Modified Random Walks"
   ]
  },
  {
   "cell_type": "code",
   "execution_count": null,
   "id": "7da71b51",
   "metadata": {},
   "outputs": [],
   "source": [
    "# Exercise 15-4: Modified Random Walks\n",
    "# In the RandomWalk class, x_step and y_step are generated from the same set of choices.\n",
    "# The direction is chosen randomly from [1, -1] and the distance from [0, 1, 2, 3, 4].\n",
    "# Modify the code so the distance is chosen from [0, 1, 2, 3, 4, 5, 6, 7, 8] or\n",
    "# any other list of your choice. Run the program several times to see how this\n",
    "# change affects the overall shape of your walks.\n",
    "\n",
    "class ModifiedRandomWalk:\n",
    "    \"\"\"A class to generate modified random walks with different step sizes.\"\"\"\n",
    "    \n",
    "    def __init__(self, num_points=5000):\n",
    "        \"\"\"Initialize attributes of a walk.\"\"\"\n",
    "        # Here I will write the code and corresponding comments to complete the training tasks\n",
    "        pass\n",
    "    \n",
    "    def fill_walk(self):\n",
    "        \"\"\"Calculate all the points in the walk.\"\"\"\n",
    "        # Here I will write the code and corresponding comments to complete the training tasks\n",
    "        pass\n",
    "    \n",
    "    def get_step(self):\n",
    "        \"\"\"Determine the direction and distance for each step with modified distances.\"\"\"\n",
    "        # Here I will write the code and corresponding comments to complete the training tasks\n",
    "        pass\n",
    "\n",
    "# Generate and compare multiple modified random walks\n",
    "# Here I will write the code and corresponding comments to complete the training tasks"
   ]
  },
  {
   "cell_type": "markdown",
   "id": "a326cfbb",
   "metadata": {},
   "source": [
    "## 15-5 Refactoring"
   ]
  },
  {
   "cell_type": "code",
   "execution_count": null,
   "id": "b054f390",
   "metadata": {},
   "outputs": [],
   "source": [
    "# Exercise 15-5: Refactoring\n",
    "# The method fill_walk() is lengthy. Create a new method called get_step() to determine\n",
    "# the direction and distance of each step, and then calculate the step. You should end up\n",
    "# with two calls to get_step() in fill_walk():\n",
    "#     x_step = self.get_step()\n",
    "#     y_step = self.get_step()\n",
    "# This refactoring should reduce the size of fill_walk() and make the method easier to read and understand.\n",
    "\n",
    "class RefactoredRandomWalk:\n",
    "    \"\"\"A class to generate random walks with refactored code structure.\"\"\"\n",
    "    \n",
    "    def __init__(self, num_points=5000):\n",
    "        \"\"\"Initialize attributes of a walk.\"\"\"\n",
    "        # Here I will write the code and corresponding comments to complete the training tasks\n",
    "        pass\n",
    "    \n",
    "    def fill_walk(self):\n",
    "        \"\"\"Calculate all the points in the walk using refactored get_step() method.\"\"\"\n",
    "        # Here I will write the code and corresponding comments to complete the training tasks\n",
    "        pass\n",
    "    \n",
    "    def get_step(self):\n",
    "        \"\"\"Determine the direction and distance for a single step.\"\"\"\n",
    "        # Here I will write the code and corresponding comments to complete the training tasks\n",
    "        pass\n",
    "\n",
    "# Test the refactored random walk\n",
    "# Here I will write the code and corresponding comments to complete the training tasks"
   ]
  },
  {
   "cell_type": "markdown",
   "id": "05f8ccf4",
   "metadata": {},
   "source": [
    "## 15-6 Two D8s"
   ]
  },
  {
   "cell_type": "code",
   "execution_count": null,
   "id": "c56b35d3",
   "metadata": {},
   "outputs": [],
   "source": [
    "# Exercise 15-6: Two D8s\n",
    "# Create a simulation showing what happens when you roll two 8-sided dice 1000 times.\n",
    "# Try to picture what you think the visualization will look like before you run the simulation;\n",
    "# then see if your intuition was correct. Gradually increase the number of rolls until you start\n",
    "# to see the limits of your system's capabilities.\n",
    "\n",
    "class Die:\n",
    "    \"\"\"A class representing a single die.\"\"\"\n",
    "    \n",
    "    def __init__(self, num_sides=6):\n",
    "        \"\"\"Assume a six-sided die by default.\"\"\"\n",
    "        # Here I will write the code and corresponding comments to complete the training tasks\n",
    "        pass\n",
    "    \n",
    "    def roll(self):\n",
    "        \"\"\"Return a random value between 1 and number of sides.\"\"\"\n",
    "        # Here I will write the code and corresponding comments to complete the training tasks\n",
    "        pass\n",
    "\n",
    "# Create simulation and visualization for two 8-sided dice\n",
    "# Here I will write the code and corresponding comments to complete the training tasks"
   ]
  },
  {
   "cell_type": "markdown",
   "id": "8437ddc1",
   "metadata": {},
   "source": [
    "## 15-7 Three Dice"
   ]
  },
  {
   "cell_type": "code",
   "execution_count": null,
   "id": "43178059",
   "metadata": {},
   "outputs": [],
   "source": [
    "# Exercise 15-7: Three Dice\n",
    "# When you roll three D6 dice, the smallest number you can roll is 3 and the largest is 18.\n",
    "# Create a visualization that shows what happens when you roll three D6 dice.\n",
    "\n",
    "# Here I will write the code and corresponding comments to complete the training tasks"
   ]
  },
  {
   "cell_type": "markdown",
   "id": "c9f1ad37",
   "metadata": {},
   "source": [
    "## 15-8 Multiplication"
   ]
  },
  {
   "cell_type": "code",
   "execution_count": null,
   "id": "c26bb160",
   "metadata": {},
   "outputs": [],
   "source": [
    "# Exercise 15-8: Multiplication\n",
    "# When you roll two dice, you usually add the two numbers together to get the result.\n",
    "# Create a visualization that shows what happens if you multiply these numbers by each other instead.\n",
    "\n",
    "# Here I will write the code and corresponding comments to complete the training tasks"
   ]
  },
  {
   "cell_type": "markdown",
   "id": "666fdff2",
   "metadata": {},
   "source": [
    "## 15-9 Die Comprehensions"
   ]
  },
  {
   "cell_type": "code",
   "execution_count": null,
   "id": "08eedca5",
   "metadata": {},
   "outputs": [],
   "source": [
    "# Exercise 15-9: Die Comprehensions\n",
    "# For clarity, the listings in this section use the long form of for loops.\n",
    "# If you're comfortable using list comprehensions, try writing a comprehension\n",
    "# for one or both of the loops in each of these programs.\n",
    "\n",
    "# Here I will write the code and corresponding comments to complete the training tasks"
   ]
  },
  {
   "cell_type": "markdown",
   "id": "850376dd",
   "metadata": {},
   "source": [
    "## 15-10 Practicing with Both Libraries"
   ]
  },
  {
   "cell_type": "code",
   "execution_count": null,
   "id": "be792e04",
   "metadata": {},
   "outputs": [],
   "source": [
    "# Exercise 15-10: Practicing with Both Libraries\n",
    "# Try using matplotlib to make a die-rolling visualization, and use Plotly to make\n",
    "# a random-walk visualization. (You'll need to consult the documentation for each library\n",
    "# to complete this exercise.)\n",
    "\n",
    "# Note: This exercise requires Plotly. Install with: pip install plotly\n",
    "# Uncomment the import below if you have Plotly installed\n",
    "# import plotly.graph_objects as go\n",
    "# import plotly.express as px\n",
    "\n",
    "# Matplotlib die-rolling visualization\n",
    "# Here I will write the code and corresponding comments to complete the training tasks\n",
    "\n",
    "# Plotly random-walk visualization\n",
    "# Here I will write the code and corresponding comments to complete the training tasks"
   ]
  },
  {
   "cell_type": "markdown",
   "id": "cf92266e",
   "metadata": {},
   "source": [
    "## Additional Practice: Line Graphs and Scatter Plots"
   ]
  },
  {
   "cell_type": "code",
   "execution_count": null,
   "id": "8170ded1",
   "metadata": {},
   "outputs": [],
   "source": [
    "# Additional practice with basic matplotlib functionality\n",
    "# Create simple line graphs and scatter plots for data visualization practice\n",
    "\n",
    "# Simple line graph example\n",
    "# Here I will write the code and corresponding comments to complete the training tasks\n",
    "\n",
    "# Scatter plot with customization\n",
    "# Here I will write the code and corresponding comments to complete the training tasks"
   ]
  },
  {
   "cell_type": "markdown",
   "id": "b77ccb0a",
   "metadata": {},
   "source": [
    "## Working with Large Datasets"
   ]
  },
  {
   "cell_type": "code",
   "execution_count": null,
   "id": "3a2d6f36",
   "metadata": {},
   "outputs": [],
   "source": [
    "# Practice working with larger datasets and performance considerations\n",
    "# Generate and visualize large amounts of data efficiently\n",
    "\n",
    "# Here I will write the code and corresponding comments to complete the training tasks"
   ]
  },
  {
   "cell_type": "markdown",
   "id": "73ce6884",
   "metadata": {},
   "source": [
    "## Saving Plots to Files"
   ]
  },
  {
   "cell_type": "code",
   "execution_count": null,
   "id": "934facb4",
   "metadata": {},
   "outputs": [],
   "source": [
    "# Practice saving plots to various file formats\n",
    "# Learn to control resolution, file size, and format options\n",
    "\n",
    "# Here I will write the code and corresponding comments to complete the training tasks"
   ]
  },
  {
   "cell_type": "markdown",
   "id": "105dea57",
   "metadata": {},
   "source": [
    "---\n",
    "\n",
    "## Summary\n",
    "\n",
    "Congratulations! You've completed all the exercises for Chapter 15 on Generating Data. You should now be comfortable with:\n",
    "\n",
    "**Key Concepts Practiced:**\n",
    "- **Data Visualization Basics**: Creating line graphs, scatter plots, and bar charts\n",
    "- **Matplotlib Fundamentals**: Using pyplot interface for data visualization\n",
    "- **Mathematical Data Generation**: Creating sequences of numbers and mathematical relationships\n",
    "- **Random Data Simulation**: Generating random walks and dice roll simulations\n",
    "- **Plot Customization**: Colors, labels, titles, and formatting options\n",
    "- **Large Dataset Handling**: Working with thousands of data points efficiently\n",
    "\n",
    "**Programming Techniques:**\n",
    "- **Object-Oriented Design**: Creating reusable classes for data generation\n",
    "- **List Comprehensions**: Efficient data processing and generation\n",
    "- **Method Refactoring**: Breaking down complex methods into smaller, focused functions\n",
    "- **File I/O**: Saving plots and visualizations to files\n",
    "- **Performance Optimization**: Handling large datasets without performance issues\n",
    "\n",
    "**Data Visualization Skills:**\n",
    "- **Chart Selection**: Choosing appropriate visualization types for different data\n",
    "- **Color Theory**: Using colormaps and color schemes effectively\n",
    "- **Visual Clarity**: Creating clear, readable, and informative plots\n",
    "- **Statistical Visualization**: Showing patterns, trends, and distributions in data\n",
    "\n",
    "**Real-World Applications:**\n",
    "- **Scientific Computing**: Visualizing experimental data and mathematical models\n",
    "- **Data Analysis**: Exploring patterns and trends in datasets\n",
    "- **Simulation and Modeling**: Creating models of real-world phenomena\n",
    "- **Business Intelligence**: Creating dashboards and reports for decision-making\n",
    "\n",
    "**Next Steps:**\n",
    "- Review any exercises you found challenging\n",
    "- Experiment with different chart types and customization options\n",
    "- Try visualizing your own data or datasets from other sources\n",
    "- Move on to Chapter 16: Downloading Data\n",
    "\n",
    "---\n",
    "\n",
    "*Note: Data visualization is a crucial skill in modern programming. The ability to generate meaningful visualizations from data is valuable in scientific computing, data science, web development, and many other fields. Master these fundamentals, as they form the foundation for more advanced data analysis and visualization techniques!*"
   ]
  }
 ],
 "metadata": {
  "language_info": {
   "name": "python"
  }
 },
 "nbformat": 4,
 "nbformat_minor": 5
}
