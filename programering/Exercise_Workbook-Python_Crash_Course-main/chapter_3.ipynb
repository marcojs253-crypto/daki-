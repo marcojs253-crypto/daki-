{
 "cells": [
  {
   "cell_type": "markdown",
   "id": "dfb55a31",
   "metadata": {},
   "source": [
    "# Python Crash Course - Chapter 3: Introducing Lists\n",
    "\n",
    "This notebook contains exercises from Chapter 3 of Python Crash Course by Eric Matthes. Each exercise focuses on working with lists - one of Python's most versatile data types.\n",
    "\n",
    "## Learning Objectives:\n",
    "- Create and modify lists\n",
    "- Access list elements using indices\n",
    "- Add, remove, and change list elements\n",
    "- Organize lists (sorting, reversing)\n",
    "- Find the length of lists\n",
    "\n",
    "---\n",
    "\n",
    "## 3-1 Names"
   ]
  },
  {
   "cell_type": "code",
   "execution_count": null,
   "id": "06255289",
   "metadata": {},
   "outputs": [],
   "source": [
    "# Exercise 3-1: Names\n",
    "# Store the names of a few of your friends in a list called names.\n",
    "# Print each person's name by accessing each element in the list, one at a time.\n",
    "\n",
    "# Example structure\n",
    "names = ['', '', '', '']\n",
    "\n",
    "# Access each name using index positions [0], [1], [2], etc.\n",
    "\n",
    "# Here I will write the code and corresponding comments to complete the training tasks"
   ]
  },
  {
   "cell_type": "markdown",
   "id": "5b117513",
   "metadata": {},
   "source": [
    "## 3-2 Greetings"
   ]
  },
  {
   "cell_type": "code",
   "execution_count": null,
   "id": "9c3dc67c",
   "metadata": {},
   "outputs": [],
   "source": [
    "# Exercise 3-2: Greetings\n",
    "# Start with the list you used in Exercise 3-1, but instead of just printing each person's name,\n",
    "# print a message to them. The text of each message should be the same, but each message\n",
    "# should be personalized with the person's name.\n",
    "\n",
    "# Use the same names list from previous exercise\n",
    "names = ['', '', '', '']\n",
    "\n",
    "# Create personalized messages using f-strings\n",
    "\n",
    "# Here I will write the code and corresponding comments to complete the training tasks"
   ]
  },
  {
   "cell_type": "markdown",
   "id": "dd330fb3",
   "metadata": {},
   "source": [
    "## 3-3 Your Own List"
   ]
  },
  {
   "cell_type": "code",
   "execution_count": null,
   "id": "f6227760",
   "metadata": {},
   "outputs": [],
   "source": [
    "# Exercise 3-3: Your Own List\n",
    "# Think of your favorite mode of transportation, such as a motorcycle or a car, and make a list\n",
    "# that stores several examples. Use your list to print a series of statements about these items,\n",
    "# such as \"I would like to own a Honda motorcycle.\"\n",
    "\n",
    "# Example structure - replace with your favorite transportation\n",
    "transportation = ['', '', '', '']\n",
    "\n",
    "# Create statements about each item\n",
    "\n",
    "# Here I will write the code and corresponding comments to complete the training tasks"
   ]
  },
  {
   "cell_type": "markdown",
   "id": "b2ed0caf",
   "metadata": {},
   "source": [
    "## 3-4 Guest List"
   ]
  },
  {
   "cell_type": "code",
   "execution_count": null,
   "id": "228c5686",
   "metadata": {},
   "outputs": [],
   "source": [
    "# Exercise 3-4: Guest List\n",
    "# If you could invite anyone, living or deceased, to dinner, who would you invite?\n",
    "# Make a list that includes at least three people you'd like to invite to dinner.\n",
    "# Then use your list to print a message to each person, inviting them to dinner.\n",
    "\n",
    "# Example structure\n",
    "guest_list = ['', '', '']\n",
    "\n",
    "# Send dinner invitations\n",
    "\n",
    "# Here I will write the code and corresponding comments to complete the training tasks"
   ]
  },
  {
   "cell_type": "markdown",
   "id": "b37edf01",
   "metadata": {},
   "source": [
    "## 3-5 Changing Guest List"
   ]
  },
  {
   "cell_type": "code",
   "execution_count": null,
   "id": "b69e36a4",
   "metadata": {},
   "outputs": [],
   "source": [
    "# Exercise 3-5: Changing Guest List\n",
    "# You just heard that one of your guests can't make the dinner, so you need to send out a new set of invitations.\n",
    "# You'll have to think of someone else to invite.\n",
    "# • Start with your program from Exercise 3-4.\n",
    "# • Add a print() call at the end of your program stating the name of the guest who can't make it.\n",
    "# • Modify your list, replacing the name of the guest who can't make it with the name of the new person you are inviting.\n",
    "# • Print a second set of invitation messages, one for each person who is still in your list.\n",
    "\n",
    "# Start with the guest list from Exercise 3-4\n",
    "guest_list = ['', '', '']\n",
    "\n",
    "# Print original invitations\n",
    "print(\"Original invitations:\")\n",
    "\n",
    "# Announce who can't make it\n",
    "guest_who_cant_make_it = ''\n",
    "print(f\"\\n{guest_who_cant_make_it} can't make it to dinner.\")\n",
    "\n",
    "# Replace the guest who can't make it\n",
    "# Use list.remove() or modify by index\n",
    "\n",
    "# Send new invitations\n",
    "print(\"\\nNew invitations:\")\n",
    "\n",
    "# Here I will write the code and corresponding comments to complete the training tasks"
   ]
  },
  {
   "cell_type": "markdown",
   "id": "f16636a8",
   "metadata": {},
   "source": [
    "## 3-6 More Guests"
   ]
  },
  {
   "cell_type": "code",
   "execution_count": null,
   "id": "afdd80bd",
   "metadata": {},
   "outputs": [],
   "source": [
    "# Exercise 3-6: More Guests\n",
    "# You just found a bigger dinner table, so now more space is available.\n",
    "# Think of three more guests to invite to dinner.\n",
    "# • Start with your program from Exercise 3-4 or Exercise 3-5.\n",
    "# • Add a print() call to the end of your program informing people that you found a bigger dinner table.\n",
    "# • Use insert() to add one new guest to the beginning of your list.\n",
    "# • Use insert() to add one new guest to the middle of your list.\n",
    "# • Use append() to add one new guest to the end of your list.\n",
    "# • Print a new set of invitation messages, one for each person in your list.\n",
    "\n",
    "# Start with your current guest list\n",
    "guest_list = ['', '', '']\n",
    "\n",
    "print(\"Great news! I found a bigger dinner table!\")\n",
    "\n",
    "# Add guests using different methods:\n",
    "# guest_list.insert(0, 'new_guest')  # Beginning\n",
    "# guest_list.insert(middle_index, 'new_guest')  # Middle\n",
    "# guest_list.append('new_guest')  # End\n",
    "\n",
    "# Send new invitations to all guests\n",
    "\n",
    "# Here I will write the code and corresponding comments to complete the training tasks"
   ]
  },
  {
   "cell_type": "markdown",
   "id": "89e31d34",
   "metadata": {},
   "source": [
    "## 3-7 Shrinking Guest List"
   ]
  },
  {
   "cell_type": "code",
   "execution_count": null,
   "id": "85fe664f",
   "metadata": {},
   "outputs": [],
   "source": [
    "# Exercise 3-7: Shrinking Guest List\n",
    "# You just found out that your new dinner table won't arrive in time for the dinner,\n",
    "# and you have space for only two guests.\n",
    "# • Start with your program from Exercise 3-6.\n",
    "# • Add a new line that prints a message saying that you can invite only two people for dinner.\n",
    "# • Use pop() to remove guests from your list one at a time until only two names remain in your list.\n",
    "# Each time you pop a name from your list, print a message to that person letting them know you're sorry you can't invite them to dinner.\n",
    "# • Print a message to each of the two people still on your list, letting them know they're still invited.\n",
    "# • Use del to remove the last two names from your list, so you have an empty list.\n",
    "# Print your list to make sure you actually have an empty list at the end of your program.\n",
    "\n",
    "# Start with your guest list from Exercise 3-6 (should have 6 people)\n",
    "guest_list = ['', '', '', '', '', '']\n",
    "\n",
    "print(\"Sorry, I can only invite two people for dinner.\")\n",
    "\n",
    "# Remove guests one by one using pop()\n",
    "# Print apology message for each removed guest\n",
    "\n",
    "# Confirm invitations for remaining two guests\n",
    "\n",
    "# Remove the last two names using del\n",
    "\n",
    "# Print the empty list\n",
    "\n",
    "# Here I will write the code and corresponding comments to complete the training tasks"
   ]
  },
  {
   "cell_type": "markdown",
   "id": "bd10801b",
   "metadata": {},
   "source": [
    "## 3-8 Seeing the World"
   ]
  },
  {
   "cell_type": "code",
   "execution_count": null,
   "id": "bbc17822",
   "metadata": {},
   "outputs": [],
   "source": [
    "# Exercise 3-8: Seeing the World\n",
    "# Think of at least five places in the world you'd like to visit.\n",
    "# • Store the locations in a list. Make sure the list is not in alphabetical order.\n",
    "# • Print your list in its original order. Don't worry about printing the list neatly;\n",
    "# just print it as a raw Python list.\n",
    "# • Use sorted() to print your list in alphabetical order without modifying the actual list.\n",
    "# • Show that your list is still in its original order by printing it.\n",
    "# • Use sorted() to print your list in reverse alphabetical order without changing the order of the original list.\n",
    "# • Show that your list is still in its original order by printing it again.\n",
    "# • Use reverse() to change the order of your list. Print the list to show that its order has changed.\n",
    "# • Use reverse() again to change the order of your list. Print the list to show it's back to its original order.\n",
    "# • Use sort() to change your list so it's stored in alphabetical order. Print the list to show that its order has been changed.\n",
    "# • Use sort() to change your list so it's stored in reverse alphabetical order.\n",
    "# Print the list to show that its order has changed.\n",
    "\n",
    "# Create list of places to visit (not in alphabetical order)\n",
    "places_to_visit = ['', '', '', '', '']\n",
    "\n",
    "# Print original order\n",
    "print(\"Original order:\")\n",
    "\n",
    "# Print in alphabetical order (without changing original)\n",
    "print(\"\\nAlphabetical order (temporary):\")\n",
    "\n",
    "# Show original order is unchanged\n",
    "print(\"\\nOriginal order (unchanged):\")\n",
    "\n",
    "# Print in reverse alphabetical order (without changing original)\n",
    "print(\"\\nReverse alphabetical order (temporary):\")\n",
    "\n",
    "# Show original order is still unchanged\n",
    "print(\"\\nOriginal order (still unchanged):\")\n",
    "\n",
    "# Reverse the list permanently\n",
    "print(\"\\nReversed order (permanent):\")\n",
    "\n",
    "# Reverse again to get back to original order\n",
    "print(\"\\nBack to original order:\")\n",
    "\n",
    "# Sort alphabetically (permanent)\n",
    "print(\"\\nAlphabetical order (permanent):\")\n",
    "\n",
    "# Sort reverse alphabetically (permanent)\n",
    "print(\"\\nReverse alphabetical order (permanent):\")\n",
    "\n",
    "# Here I will write the code and corresponding comments to complete the training tasks"
   ]
  },
  {
   "cell_type": "markdown",
   "id": "55c88bb9",
   "metadata": {},
   "source": [
    "## 3-9 Dinner Guests"
   ]
  },
  {
   "cell_type": "code",
   "execution_count": null,
   "id": "3501a6f0",
   "metadata": {},
   "outputs": [],
   "source": [
    "# Exercise 3-9: Dinner Guests\n",
    "# Working with one of the programs from Exercises 3-4 through 3-7, use len() to print a message\n",
    "# indicating the number of people you are inviting to dinner.\n",
    "\n",
    "# Use a guest list from any of the previous exercises\n",
    "guest_list = ['', '', '']\n",
    "\n",
    "# Use len() to count guests and print the number\n",
    "\n",
    "# Here I will write the code and corresponding comments to complete the training tasks"
   ]
  },
  {
   "cell_type": "markdown",
   "id": "89e062ed",
   "metadata": {},
   "source": [
    "## 3-10 Every Function"
   ]
  },
  {
   "cell_type": "code",
   "execution_count": null,
   "id": "dd5e8185",
   "metadata": {},
   "outputs": [],
   "source": [
    "# Exercise 3-10: Every Function\n",
    "# Think of something you could store in a list. For example, you could make a list of mountains,\n",
    "# rivers, countries, cities, languages, or anything else you'd like. Write a program that creates\n",
    "# a list containing these items and then uses each function introduced in this chapter at least once.\n",
    "\n",
    "# Create a list of your choice (e.g., programming languages, movies, books, etc.)\n",
    "my_list = ['', '', '', '', '']\n",
    "\n",
    "print(\"Original list:\")\n",
    "print(my_list)\n",
    "\n",
    "# Use each function at least once:\n",
    "# - Accessing elements with indices (positive and negative)\n",
    "# - append()\n",
    "# - insert()\n",
    "# - del statement\n",
    "# - pop()\n",
    "# - remove()\n",
    "# - sort()\n",
    "# - sorted()\n",
    "# - reverse()\n",
    "# - len()\n",
    "\n",
    "# Here I will write the code and corresponding comments to complete the training tasks"
   ]
  },
  {
   "cell_type": "markdown",
   "id": "ad06739b",
   "metadata": {},
   "source": [
    "## 3-11 Intentional Error"
   ]
  },
  {
   "cell_type": "code",
   "execution_count": null,
   "id": "64153714",
   "metadata": {},
   "outputs": [],
   "source": [
    "# Exercise 3-11: Intentional Error\n",
    "# If you haven't received an index error in one of your programs yet, try to make one happen.\n",
    "# Change an index in one of your programs to produce an index error.\n",
    "# Make sure you correct the error before closing the program.\n",
    "\n",
    "# Create a small list\n",
    "test_list = ['apple', 'banana', 'cherry']\n",
    "\n",
    "print(\"List contents:\")\n",
    "print(test_list)\n",
    "\n",
    "print(f\"\\nList length: {len(test_list)}\")\n",
    "print(\"Valid indices are 0, 1, 2 (or -1, -2, -3)\")\n",
    "\n",
    "# Try to access a valid index first\n",
    "print(f\"\\nAccessing index 0: {test_list[0]}\")\n",
    "\n",
    "# Now try to create an index error (uncomment the line below)\n",
    "# print(f\"Accessing index 3: {test_list[3]}\")  # This will cause an IndexError\n",
    "\n",
    "# Correct way to access the last element\n",
    "print(f\"Last element (correct): {test_list[-1]}\")\n",
    "\n",
    "# Here I will write the code and corresponding comments to complete the training tasks"
   ]
  },
  {
   "cell_type": "markdown",
   "id": "d3d626e4",
   "metadata": {},
   "source": [
    "---\n",
    "\n",
    "## Summary\n",
    "\n",
    "Congratulations! You've completed all the exercises for Chapter 3 on Introducing Lists. You should now be comfortable with:\n",
    "\n",
    "- Creating and modifying lists\n",
    "- Accessing list elements using positive and negative indices\n",
    "- Adding elements with `append()` and `insert()`\n",
    "- Removing elements with `del`, `pop()`, and `remove()`\n",
    "- Organizing lists with `sort()`, `sorted()`, and `reverse()`\n",
    "- Finding list length with `len()`\n",
    "\n",
    "**Key Concepts Practiced:**\n",
    "- List indexing (positive and negative)\n",
    "- List methods: `.append()`, `.insert()`, `.pop()`, `.remove()`, `.sort()`, `.reverse()`\n",
    "- Built-in functions: `sorted()`, `len()`\n",
    "- The `del` statement\n",
    "- Understanding and handling index errors\n",
    "\n",
    "**Next Steps:**\n",
    "- Review any exercises you found challenging\n",
    "- Practice creating and manipulating different types of lists\n",
    "- Move on to Chapter 4: Working with Lists (loops and list comprehensions)\n",
    "\n",
    "---\n",
    "\n",
    "*Note: Remember that lists are mutable (changeable) and maintain order. Understanding indexing is crucial for working effectively with lists!*"
   ]
  }
 ],
 "metadata": {
  "language_info": {
   "name": "python"
  }
 },
 "nbformat": 4,
 "nbformat_minor": 5
}
