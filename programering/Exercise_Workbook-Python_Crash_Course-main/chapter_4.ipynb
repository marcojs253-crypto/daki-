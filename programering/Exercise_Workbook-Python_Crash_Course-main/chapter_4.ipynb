{
 "cells": [
  {
   "cell_type": "markdown",
   "id": "ee5598f5",
   "metadata": {},
   "source": [
    "# Python Crash Course - Chapter 4: Working with Lists\n",
    "\n",
    "This notebook contains exercises from Chapter 4 of Python Crash Course by Eric Matthes. Each exercise focuses on working with lists using loops and other advanced techniques.\n",
    "\n",
    "## Learning Objectives:\n",
    "- Use for loops to iterate through lists\n",
    "- Create numerical lists with range()\n",
    "- Perform simple statistics on lists\n",
    "- Work with list slices\n",
    "- Copy lists properly\n",
    "- Use tuples for immutable data\n",
    "\n",
    "---\n",
    "\n",
    "## 4-1 Pizzas"
   ]
  },
  {
   "cell_type": "code",
   "execution_count": null,
   "id": "78830869",
   "metadata": {},
   "outputs": [],
   "source": [
    "# Exercise 4-1: Pizzas\n",
    "# Think of at least three kinds of your favorite pizza. Store these pizza names in a list,\n",
    "# and then use a for loop to print the name of each pizza.\n",
    "# • Modify your for loop to print a sentence using each pizza name instead of printing just the name of the pizza.\n",
    "# For each pizza you should have one line of output containing a simple statement like \"I like pepperoni pizza.\"\n",
    "# • Add a line at the end of your program, outside the for loop, that states how much you like pizza.\n",
    "# The output should consist of three or more lines about the kinds of pizza you like and then an additional sentence,\n",
    "# such as \"I really love pizza!\"\n",
    "\n",
    "# Example structure\n",
    "pizzas = ['', '', '']\n",
    "\n",
    "# Print just the pizza names\n",
    "print(\"Pizza names:\")\n",
    "\n",
    "# Print sentences about each pizza\n",
    "print(\"\\nPizza preferences:\")\n",
    "\n",
    "# Add a statement outside the loop\n",
    "\n",
    "# Here I will write the code and corresponding comments to complete the training tasks"
   ]
  },
  {
   "cell_type": "markdown",
   "id": "31da76d3",
   "metadata": {},
   "source": [
    "## 4-2 Animals"
   ]
  },
  {
   "cell_type": "code",
   "execution_count": null,
   "id": "0a0ea81f",
   "metadata": {},
   "outputs": [],
   "source": [
    "# Exercise 4-2: Animals\n",
    "# Think of at least three different animals that have a common characteristic.\n",
    "# Store the names of these animals in a list, and then use a for loop to print the name of each animal.\n",
    "# • Modify your program to print a statement about each animal, such as \"A dog would make a great pet.\"\n",
    "# • Add a line at the end of your program stating what these animals have in common.\n",
    "# You could print a sentence such as \"Any of these animals would make a great pet!\"\n",
    "\n",
    "# Example structure - animals with a common characteristic\n",
    "animals = ['', '', '']\n",
    "\n",
    "# Print just the animal names\n",
    "print(\"Animals:\")\n",
    "\n",
    "# Print statements about each animal\n",
    "print(\"\\nAnimal characteristics:\")\n",
    "\n",
    "# Add a statement about what they have in common\n",
    "\n",
    "# Here I will write the code and corresponding comments to complete the training tasks"
   ]
  },
  {
   "cell_type": "markdown",
   "id": "3c7d5be5",
   "metadata": {},
   "source": [
    "## 4-3 Counting to Twenty"
   ]
  },
  {
   "cell_type": "code",
   "execution_count": null,
   "id": "f1e3c1ee",
   "metadata": {},
   "outputs": [],
   "source": [
    "# Exercise 4-3: Counting to Twenty\n",
    "# Use a for loop to print the numbers from 1 to 20, inclusive.\n",
    "\n",
    "# Use range() to generate numbers 1 to 20\n",
    "print(\"Numbers from 1 to 20:\")\n",
    "\n",
    "# Here I will write the code and corresponding comments to complete the training tasks"
   ]
  },
  {
   "cell_type": "markdown",
   "id": "a3161c50",
   "metadata": {},
   "source": [
    "## 4-4 One Million"
   ]
  },
  {
   "cell_type": "code",
   "execution_count": null,
   "id": "93acff34",
   "metadata": {},
   "outputs": [],
   "source": [
    "# Exercise 4-4: One Million\n",
    "# Make a list of the numbers from one to one million, and then use a for loop to print the numbers.\n",
    "# (If the output is taking too long, stop it by pressing CTRL-C or by closing the output window.)\n",
    "\n",
    "# Create list of numbers from 1 to 1,000,000\n",
    "# numbers = list(range(1, 1000001))\n",
    "\n",
    "# Print the numbers (WARNING: This will take a long time!)\n",
    "# Uncomment the lines below only if you want to see the full output\n",
    "# for number in numbers:\n",
    "#     print(number)\n",
    "\n",
    "# Instead, let's just print a sample to verify it works\n",
    "numbers = list(range(1, 1000001))\n",
    "print(f\"List created with {len(numbers)} numbers\")\n",
    "print(f\"First 10 numbers: {numbers[:10]}\")\n",
    "print(f\"Last 10 numbers: {numbers[-10:]}\")\n",
    "\n",
    "# Here I will write the code and corresponding comments to complete the training tasks"
   ]
  },
  {
   "cell_type": "markdown",
   "id": "2430e7ea",
   "metadata": {},
   "source": [
    "## 4-5 Summing a Million"
   ]
  },
  {
   "cell_type": "code",
   "execution_count": null,
   "id": "8a1e99dc",
   "metadata": {},
   "outputs": [],
   "source": [
    "# Exercise 4-5: Summing a Million\n",
    "# Make a list of the numbers from one to one million, and then use min() and max()\n",
    "# to make sure your list actually starts at one and ends at one million.\n",
    "# Also, use the sum() function to see how quickly Python can add a million numbers.\n",
    "\n",
    "# Create list of numbers from 1 to 1,000,000\n",
    "numbers = list(range(1, 1000001))\n",
    "\n",
    "# Use min(), max(), and sum() functions\n",
    "print(f\"Minimum value: {min(numbers)}\")\n",
    "print(f\"Maximum value: {max(numbers)}\")\n",
    "print(f\"Sum of all numbers: {sum(numbers)}\")\n",
    "\n",
    "# Here I will write the code and corresponding comments to complete the training tasks"
   ]
  },
  {
   "cell_type": "markdown",
   "id": "dfd04f40",
   "metadata": {},
   "source": [
    "## 4-6 Odd Numbers"
   ]
  },
  {
   "cell_type": "code",
   "execution_count": null,
   "id": "84f695d6",
   "metadata": {},
   "outputs": [],
   "source": [
    "# Exercise 4-6: Odd Numbers\n",
    "# Use the third argument of the range() function to make a list of the odd numbers from 1 to 20.\n",
    "# Use a for loop to print each number.\n",
    "\n",
    "# Create list of odd numbers from 1 to 20 using range(start, stop, step)\n",
    "odd_numbers = list(range(1, 21, 2))\n",
    "\n",
    "print(\"Odd numbers from 1 to 20:\")\n",
    "\n",
    "# Here I will write the code and corresponding comments to complete the training tasks"
   ]
  },
  {
   "cell_type": "markdown",
   "id": "8eaf2ba8",
   "metadata": {},
   "source": [
    "## 4-7 Threes"
   ]
  },
  {
   "cell_type": "code",
   "execution_count": null,
   "id": "8f793f16",
   "metadata": {},
   "outputs": [],
   "source": [
    "# Exercise 4-7: Threes\n",
    "# Make a list of the multiples of 3 from 3 to 30. Use a for loop to print the numbers in your list.\n",
    "\n",
    "# Create list of multiples of 3 from 3 to 30\n",
    "# Method 1: Using range with step\n",
    "threes = list(range(3, 31, 3))\n",
    "\n",
    "# Method 2: Using multiplication (alternative approach)\n",
    "# threes = [3 * i for i in range(1, 11)]\n",
    "\n",
    "print(\"Multiples of 3 from 3 to 30:\")\n",
    "\n",
    "# Here I will write the code and corresponding comments to complete the training tasks"
   ]
  },
  {
   "cell_type": "markdown",
   "id": "c6c49e3f",
   "metadata": {},
   "source": [
    "## 4-8 Cubes"
   ]
  },
  {
   "cell_type": "code",
   "execution_count": null,
   "id": "a8c17184",
   "metadata": {},
   "outputs": [],
   "source": [
    "# Exercise 4-8: Cubes\n",
    "# A number raised to the third power is called a cube. For example, the cube of 2 is written as 2**3 in Python.\n",
    "# Make a list of the first 10 cubes (that is, the cube of each integer from 1 through 10),\n",
    "# and use a for loop to print the value of each cube.\n",
    "\n",
    "# Create list of cubes for numbers 1 through 10\n",
    "cubes = []\n",
    "for number in range(1, 11):\n",
    "    cube = number ** 3\n",
    "    cubes.append(cube)\n",
    "\n",
    "# Alternative method using list comprehension:\n",
    "# cubes = [number**3 for number in range(1, 11)]\n",
    "\n",
    "print(\"First 10 cubes:\")\n",
    "\n",
    "# Here I will write the code and corresponding comments to complete the training tasks"
   ]
  },
  {
   "cell_type": "markdown",
   "id": "5b19ed14",
   "metadata": {},
   "source": [
    "## 4-9 Cube Comprehension"
   ]
  },
  {
   "cell_type": "code",
   "execution_count": null,
   "id": "3dcd1485",
   "metadata": {},
   "outputs": [],
   "source": [
    "# Exercise 4-9: Cube Comprehension\n",
    "# Use a list comprehension to generate a list of the first 10 cubes.\n",
    "\n",
    "# Use list comprehension to create cubes\n",
    "cubes = [number**3 for number in range(1, 11)]\n",
    "\n",
    "print(\"First 10 cubes (using list comprehension):\")\n",
    "print(cubes)\n",
    "\n",
    "# Here I will write the code and corresponding comments to complete the training tasks"
   ]
  },
  {
   "cell_type": "markdown",
   "id": "26dbf13b",
   "metadata": {},
   "source": [
    "## 4-10 Slices"
   ]
  },
  {
   "cell_type": "code",
   "execution_count": null,
   "id": "af02bd56",
   "metadata": {},
   "outputs": [],
   "source": [
    "# Exercise 4-10: Slices\n",
    "# Using one of the programs you wrote in this chapter, add several lines to the end of the program\n",
    "# that do the following:\n",
    "# • Print the message \"The first three items in the list are:\" Then use a slice to print the first three items from that program's list.\n",
    "# • Print the message \"Three items from the middle of the list are:\" Then use a slice to print three items from the middle of the list.\n",
    "# • Print the message \"The last three items in the list are:\" Then use a slice to print the last three items in the list.\n",
    "\n",
    "# Use a list from previous exercises (e.g., cubes)\n",
    "cubes = [number**3 for number in range(1, 11)]\n",
    "print(f\"Complete list: {cubes}\")\n",
    "\n",
    "# Print first three items\n",
    "print(\"\\nThe first three items in the list are:\")\n",
    "\n",
    "# Print three items from the middle\n",
    "print(\"\\nThree items from the middle of the list are:\")\n",
    "\n",
    "# Print last three items\n",
    "print(\"\\nThe last three items in the list are:\")\n",
    "\n",
    "# Here I will write the code and corresponding comments to complete the training tasks"
   ]
  },
  {
   "cell_type": "markdown",
   "id": "b68005b8",
   "metadata": {},
   "source": [
    "## 4-11 My Pizzas, Your Pizzas"
   ]
  },
  {
   "cell_type": "code",
   "execution_count": null,
   "id": "ad4b70c8",
   "metadata": {},
   "outputs": [],
   "source": [
    "# Exercise 4-11: My Pizzas, Your Pizzas\n",
    "# Start with your program from Exercise 4-1. Make a copy of the list of pizzas,\n",
    "# and call it friend_pizzas. Then, do the following:\n",
    "# • Add a new pizza to the original pizzas list.\n",
    "# • Add a different pizza to the list friend_pizzas.\n",
    "# • Prove that you have two separate lists. Print the message \"My favorite pizzas are:\",\n",
    "# and then use a for loop to print the first list. Print the message \"My friend's favorite pizzas are:\",\n",
    "# and then use a for loop to print the second list.\n",
    "# Make sure each new pizza is stored in the appropriate list.\n",
    "\n",
    "# Start with the pizza list from Exercise 4-1\n",
    "my_pizzas = ['margherita', 'pepperoni', 'hawaiian']\n",
    "\n",
    "# Make a copy of the list (proper way to copy)\n",
    "friend_pizzas = my_pizzas[:]\n",
    "# Alternative: friend_pizzas = my_pizzas.copy()\n",
    "\n",
    "# Add a new pizza to each list\n",
    "my_pizzas.append('')\n",
    "friend_pizzas.append('')\n",
    "\n",
    "# Prove you have two separate lists\n",
    "print(\"My favorite pizzas are:\")\n",
    "\n",
    "print(\"\\nMy friend's favorite pizzas are:\")\n",
    "\n",
    "# Here I will write the code and corresponding comments to complete the training tasks"
   ]
  },
  {
   "cell_type": "markdown",
   "id": "6dbeae98",
   "metadata": {},
   "source": [
    "## 4-12 More Loops"
   ]
  },
  {
   "cell_type": "code",
   "execution_count": null,
   "id": "53ffa426",
   "metadata": {},
   "outputs": [],
   "source": [
    "# Exercise 4-12: More Loops\n",
    "# All versions of foods.py in this section have avoided using for loops when printing\n",
    "# to save space. Choose a version of foods.py, and write two for loops to print each list of foods.\n",
    "\n",
    "# Create two food lists\n",
    "my_foods = ['pizza', 'falafel', 'carrot cake']\n",
    "friend_foods = my_foods[:]\n",
    "\n",
    "my_foods.append('cannoli')\n",
    "friend_foods.append('ice cream')\n",
    "\n",
    "# Use for loops to print each list\n",
    "print(\"My favorite foods are:\")\n",
    "\n",
    "print(\"\\nMy friend's favorite foods are:\")\n",
    "\n",
    "# Here I will write the code and corresponding comments to complete the training tasks"
   ]
  },
  {
   "cell_type": "markdown",
   "id": "b1555f6a",
   "metadata": {},
   "source": [
    "## 4-13 Buffet"
   ]
  },
  {
   "cell_type": "code",
   "execution_count": null,
   "id": "a4c086b3",
   "metadata": {},
   "outputs": [],
   "source": [
    "# Exercise 4-13: Buffet\n",
    "# A buffet-style restaurant offers only five basic foods. Think of five simple foods,\n",
    "# and store them in a tuple.\n",
    "# • Use a for loop to print each food the restaurant offers.\n",
    "# • Try to modify one of the items, and make sure that Python rejects the change.\n",
    "# • The restaurant changes its menu, replacing two of the items with different foods.\n",
    "# Add a line that rewrites the tuple, and then use a for loop to print each of the items on the revised menu.\n",
    "\n",
    "# Create a tuple of basic foods\n",
    "buffet_foods = ('', '', '', '', '')\n",
    "\n",
    "print(\"Original menu:\")\n",
    "print(\"The buffet offers:\")\n",
    "\n",
    "# Try to modify the tuple (this should cause an error)\n",
    "print(\"\\nTrying to modify the tuple...\")\n",
    "# Uncomment the line below to see the error\n",
    "# buffet_foods[0] = 'new food'  # This will raise a TypeError\n",
    "print(\"Cannot modify tuple - tuples are immutable!\")\n",
    "\n",
    "# Replace the tuple with a new one (two items changed)\n",
    "print(\"\\nThe restaurant updated their menu!\")\n",
    "buffet_foods = ('', '', '', '', '')\n",
    "\n",
    "print(\"\\nRevised menu:\")\n",
    "print(\"The buffet now offers:\")\n",
    "\n",
    "# Here I will write the code and corresponding comments to complete the training tasks"
   ]
  },
  {
   "cell_type": "markdown",
   "id": "4acdd9d0",
   "metadata": {},
   "source": [
    "---\n",
    "\n",
    "## Summary\n",
    "\n",
    "Congratulations! You've completed all the exercises for Chapter 4 on Working with Lists. You should now be comfortable with:\n",
    "\n",
    "- Using for loops to iterate through lists\n",
    "- Creating numerical lists with `range()`\n",
    "- Using list statistics functions: `min()`, `max()`, `sum()`\n",
    "- Working with list slices\n",
    "- Copying lists properly vs. creating references\n",
    "- Using tuples for immutable sequences\n",
    "- List comprehensions for concise list creation\n",
    "\n",
    "**Key Concepts Practiced:**\n",
    "- For loop syntax: `for item in list:`\n",
    "- Range function: `range(start, stop, step)`\n",
    "- List slicing: `list[start:end]`, `list[:3]`, `list[-3:]`\n",
    "- List copying: `new_list = old_list[:]` or `new_list = old_list.copy()`\n",
    "- Tuple immutability and when to use tuples vs. lists\n",
    "- List comprehensions: `[expression for item in range()]`\n",
    "\n",
    "**Next Steps:**\n",
    "- Review any exercises you found challenging\n",
    "- Practice writing more complex for loops\n",
    "- Experiment with different slice patterns\n",
    "- Move on to Chapter 5: If Statements\n",
    "\n",
    "---\n",
    "\n",
    "*Note: Understanding the difference between copying lists and creating references is crucial for avoiding bugs in your programs!*"
   ]
  }
 ],
 "metadata": {
  "language_info": {
   "name": "python"
  }
 },
 "nbformat": 4,
 "nbformat_minor": 5
}
