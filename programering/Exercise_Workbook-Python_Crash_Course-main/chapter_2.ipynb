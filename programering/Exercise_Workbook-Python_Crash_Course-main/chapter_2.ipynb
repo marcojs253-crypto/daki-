{
 "cells": [
  {
   "cell_type": "markdown",
   "id": "2f7511ca",
   "metadata": {},
   "source": [
    "# Python Crash Course - Chapter 2: Variables and Simple Data Types\n",
    "\n",
    "This notebook contains exercises from Chapter 2 of Python Crash Course by Eric Matthes. Each exercise focuses on working with variables and Python's simple data types.\n",
    "\n",
    "## Learning Objectives:\n",
    "- Work with variables and assign values\n",
    "- Understand strings and string methods\n",
    "- Work with numbers (integers and floats)\n",
    "- Handle user input and comments\n",
    "- Follow Python naming conventions\n",
    "\n",
    "---\n",
    "\n",
    "## 2-1 Simple Message"
   ]
  },
  {
   "cell_type": "code",
   "execution_count": null,
   "id": "372a53ac",
   "metadata": {},
   "outputs": [],
   "source": [
    "# Exercise 2-1: Simple Message\n",
    "# Assign a message to a variable, and then print that message.\n",
    "\n",
    "# Example structure\n",
    "message = \"\"\n",
    "\n",
    "# Here I will write the code and corresponding comments to complete the training tasks"
   ]
  },
  {
   "cell_type": "markdown",
   "id": "d6a3145c",
   "metadata": {},
   "source": [
    "## 2-2 Simple Messages"
   ]
  },
  {
   "cell_type": "code",
   "execution_count": null,
   "id": "ff968c91",
   "metadata": {},
   "outputs": [],
   "source": [
    "# Exercise 2-2: Simple Messages\n",
    "# Assign a message to a variable, and print that message.\n",
    "# Then change the value of the variable to a new message, and print the new message.\n",
    "\n",
    "# First message\n",
    "message = \"\"\n",
    "\n",
    "# Second message\n",
    "message = \"\"\n",
    "\n",
    "# Here I will write the code and corresponding comments to complete the training tasks"
   ]
  },
  {
   "cell_type": "markdown",
   "id": "b08306a0",
   "metadata": {},
   "source": [
    "## 2-3 Personal Message"
   ]
  },
  {
   "cell_type": "code",
   "execution_count": null,
   "id": "0551556e",
   "metadata": {},
   "outputs": [],
   "source": [
    "# Exercise 2-3: Personal Message\n",
    "# Use a variable to represent a person's name, and print a message to that person.\n",
    "# Your message should be simple, such as, \"Hello Eric, would you like to learn some Python today?\"\n",
    "\n",
    "# Example structure\n",
    "name = \"\"\n",
    "\n",
    "# Here I will write the code and corresponding comments to complete the training tasks"
   ]
  },
  {
   "cell_type": "markdown",
   "id": "ef7075a7",
   "metadata": {},
   "source": [
    "## 2-4 Name Cases"
   ]
  },
  {
   "cell_type": "code",
   "execution_count": null,
   "id": "938aae41",
   "metadata": {},
   "outputs": [],
   "source": [
    "# Exercise 2-4: Name Cases\n",
    "# Use a variable to represent a person's name, and then print that person's name\n",
    "# in lowercase, uppercase, and title case.\n",
    "\n",
    "# Example structure\n",
    "name = \"\"\n",
    "\n",
    "# Print in different cases using string methods:\n",
    "# .lower(), .upper(), .title()\n",
    "\n",
    "# Here I will write the code and corresponding comments to complete the training tasks"
   ]
  },
  {
   "cell_type": "markdown",
   "id": "68579cbb",
   "metadata": {},
   "source": [
    "## 2-5 Famous Quote"
   ]
  },
  {
   "cell_type": "code",
   "execution_count": null,
   "id": "1f32732e",
   "metadata": {},
   "outputs": [],
   "source": [
    "# Exercise 2-5: Famous Quote\n",
    "# Find a quote from a famous person you admire. Print the quote and the name of its author.\n",
    "# Your output should look something like the following, including the quotation marks:\n",
    "# Albert Einstein once said, \"A person who never made a mistake never tried anything new.\"\n",
    "\n",
    "# Example structure\n",
    "famous_person = \"\"\n",
    "quote = \"\"\n",
    "\n",
    "# Here I will write the code and corresponding comments to complete the training tasks"
   ]
  },
  {
   "cell_type": "markdown",
   "id": "bc1538b4",
   "metadata": {},
   "source": [
    "## 2-6 Famous Quote 2"
   ]
  },
  {
   "cell_type": "code",
   "execution_count": null,
   "id": "a37fc1ca",
   "metadata": {},
   "outputs": [],
   "source": [
    "# Exercise 2-6: Famous Quote 2\n",
    "# Repeat Exercise 2-5, but this time represent the famous person's name using a variable called famous_person.\n",
    "# Then compose your message and represent the entire message with a variable called message.\n",
    "# Print your message.\n",
    "\n",
    "# Example structure\n",
    "famous_person = \"\"\n",
    "message = f'{famous_person} once said, \"\"'\n",
    "\n",
    "# Here I will write the code and corresponding comments to complete the training tasks"
   ]
  },
  {
   "cell_type": "markdown",
   "id": "0a9e02da",
   "metadata": {},
   "source": [
    "## 2-7 Stripping Names"
   ]
  },
  {
   "cell_type": "code",
   "execution_count": null,
   "id": "0eca832a",
   "metadata": {},
   "outputs": [],
   "source": [
    "# Exercise 2-7: Stripping Names\n",
    "# Use a variable to represent a person's name, and include some whitespace characters\n",
    "# at the beginning and end of the name. Make sure you use each character combination,\n",
    "# \"\\t\" and \"\\n\", at least once.\n",
    "# Print the name once, so the whitespace around the name is displayed.\n",
    "# Then print the name using each of the three stripping functions, lstrip(), rstrip(), and strip().\n",
    "\n",
    "# Example structure - include whitespace characters\n",
    "name_with_whitespace = \"\\t\\n  Eric Matthes  \\n\\t\"\n",
    "\n",
    "# Print with whitespace\n",
    "print(f\"Name with whitespace: '{name_with_whitespace}'\")\n",
    "\n",
    "# Print using strip methods:\n",
    "# .lstrip(), .rstrip(), .strip()\n",
    "\n",
    "# Here I will write the code and corresponding comments to complete the training tasks"
   ]
  },
  {
   "cell_type": "markdown",
   "id": "0df92d54",
   "metadata": {},
   "source": [
    "## 2-8 Number Eight"
   ]
  },
  {
   "cell_type": "code",
   "execution_count": null,
   "id": "26f7923d",
   "metadata": {},
   "outputs": [],
   "source": [
    "# Exercise 2-8: Number Eight\n",
    "# Write addition, subtraction, multiplication, and division operations that each result in the number 8.\n",
    "# Be sure to enclose your operations in print() calls to see the results.\n",
    "# You should create four lines that look like this:\n",
    "# print(5 + 3)\n",
    "\n",
    "# Addition that equals 8\n",
    "print(5 + 3)\n",
    "\n",
    "# Subtraction that equals 8\n",
    "# print()\n",
    "\n",
    "# Multiplication that equals 8\n",
    "# print()\n",
    "\n",
    "# Division that equals 8\n",
    "# print()\n",
    "\n",
    "# Here I will write the code and corresponding comments to complete the training tasks"
   ]
  },
  {
   "cell_type": "markdown",
   "id": "5fd8382e",
   "metadata": {},
   "source": [
    "## 2-9 Favorite Number"
   ]
  },
  {
   "cell_type": "code",
   "execution_count": null,
   "id": "6dd6d30a",
   "metadata": {},
   "outputs": [],
   "source": [
    "# Exercise 2-9: Favorite Number\n",
    "# Use a variable to represent your favorite number. Then, using that variable,\n",
    "# create a message that reveals your favorite number. Print that message.\n",
    "\n",
    "# Example structure\n",
    "favorite_number = 0\n",
    "\n",
    "# Here I will write the code and corresponding comments to complete the training tasks"
   ]
  },
  {
   "cell_type": "markdown",
   "id": "4584e07f",
   "metadata": {},
   "source": [
    "## 2-10 Adding Comments"
   ]
  },
  {
   "cell_type": "code",
   "execution_count": null,
   "id": "a82e2a7b",
   "metadata": {},
   "outputs": [],
   "source": [
    "# Exercise 2-10: Adding Comments\n",
    "# Choose two of the programs you've written, and add at least one comment to each.\n",
    "# If you don't have anything specific to write because your programs are too simple at this point,\n",
    "# just add your name and the current date at the top of each file.\n",
    "# Then write one sentence describing what the program does.\n",
    "\n",
    "# Program 1: Personal Message (from Exercise 2-3)\n",
    "# Author: [Your Name]\n",
    "# Date: [Current Date]\n",
    "# Description: This program creates a personalized greeting message\n",
    "\n",
    "name = \"Eric\"\n",
    "message = f\"Hello {name}, would you like to learn some Python today?\"\n",
    "print(message)\n",
    "\n",
    "# Program 2: Favorite Number (from Exercise 2-9)\n",
    "# Author: [Your Name]\n",
    "# Date: [Current Date]\n",
    "# Description: This program displays my favorite number in a message\n",
    "\n",
    "favorite_number = 42\n",
    "print(f\"My favorite number is {favorite_number}.\")\n",
    "\n",
    "# Here I will write additional comments and corresponding code to complete the training tasks"
   ]
  },
  {
   "cell_type": "markdown",
   "id": "78e6b638",
   "metadata": {},
   "source": [
    "## 2-11 Zen of Python"
   ]
  },
  {
   "cell_type": "code",
   "execution_count": null,
   "id": "7b664b2f",
   "metadata": {},
   "outputs": [],
   "source": [
    "# Exercise 2-11: Zen of Python\n",
    "# Enter import this into a Python terminal session and skim through the additional principles.\n",
    "\n",
    "import this\n",
    "\n",
    "# After reading the Zen of Python, write down a few principles that stood out to you:\n",
    "# 1. \n",
    "# 2. \n",
    "# 3. \n",
    "\n",
    "# Here I will write the code and corresponding comments to complete the training tasks"
   ]
  },
  {
   "cell_type": "markdown",
   "id": "5ac63620",
   "metadata": {},
   "source": [
    "---\n",
    "\n",
    "## Summary\n",
    "\n",
    "Congratulations! You've completed all the exercises for Chapter 2 on Variables and Simple Data Types. You should now be comfortable with:\n",
    "\n",
    "- Creating and using variables\n",
    "- Working with strings and string methods\n",
    "- Basic arithmetic operations\n",
    "- String formatting and f-strings\n",
    "- Adding meaningful comments to code\n",
    "\n",
    "**Key Concepts Practiced:**\n",
    "- Variable assignment and naming conventions\n",
    "- String methods: `.lower()`, `.upper()`, `.title()`, `.strip()`, `.lstrip()`, `.rstrip()`\n",
    "- F-string formatting for dynamic messages\n",
    "- Basic arithmetic operations\n",
    "- Code commenting best practices\n",
    "\n",
    "**Next Steps:**\n",
    "- Review any exercises you found challenging\n",
    "- Practice creating more complex string manipulations\n",
    "- Move on to Chapter 3: Introducing Lists\n",
    "\n",
    "---\n",
    "\n",
    "*Note: Remember to use meaningful variable names and add comments to make your code readable!*"
   ]
  }
 ],
 "metadata": {
  "language_info": {
   "name": "python"
  }
 },
 "nbformat": 4,
 "nbformat_minor": 5
}
