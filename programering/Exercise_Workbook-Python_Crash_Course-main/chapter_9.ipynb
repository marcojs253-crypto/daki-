{
 "cells": [
  {
   "cell_type": "markdown",
   "id": "d66b7316",
   "metadata": {},
   "source": [
    "# Python Crash Course - Chapter 9: Classes\n",
    "\n",
    "This notebook contains exercises from Chapter 9 of Python Crash Course by Eric Matthes. Each exercise focuses on creating and using classes to model real-world objects and behaviors.\n",
    "\n",
    "## Learning Objectives:\n",
    "- Create and use classes to model real-world objects\n",
    "- Define attributes and methods in classes\n",
    "- Create instances of classes\n",
    "- Use inheritance to create specialized classes\n",
    "- Import classes from modules\n",
    "- Work with class and instance attributes\n",
    "- Override methods in child classes\n",
    "\n",
    "---\n",
    "\n",
    "## 9-1 Restaurant"
   ]
  },
  {
   "cell_type": "code",
   "execution_count": null,
   "id": "d25e582a",
   "metadata": {},
   "outputs": [],
   "source": [
    "# Exercise 9-1: Restaurant\n",
    "# Make a class called Restaurant. The __init__() method for Restaurant should store\n",
    "# two attributes: a restaurant_name and a cuisine_type.\n",
    "# Make a method called describe_restaurant() that prints these two pieces of information,\n",
    "# and a method called open_restaurant() that prints a message indicating that the restaurant is open.\n",
    "# Make an instance of your restaurant from your class. Print the two attributes individually,\n",
    "# and then call both methods.\n",
    "\n",
    "# Here I will write the code and corresponding comments to complete the training tasks"
   ]
  },
  {
   "cell_type": "markdown",
   "id": "50f06d6a",
   "metadata": {},
   "source": [
    "## 9-2 Three Restaurants"
   ]
  },
  {
   "cell_type": "code",
   "execution_count": null,
   "id": "dc6e7b2e",
   "metadata": {},
   "outputs": [],
   "source": [
    "# Exercise 9-2: Three Restaurants\n",
    "# Start with your class from Exercise 9-1. Create three different instances from the class,\n",
    "# and call describe_restaurant() for each instance.\n",
    "\n",
    "# Here I will write the code and corresponding comments to complete the training tasks"
   ]
  },
  {
   "cell_type": "markdown",
   "id": "fb072690",
   "metadata": {},
   "source": [
    "## 9-3 Users"
   ]
  },
  {
   "cell_type": "code",
   "execution_count": null,
   "id": "8d8b755a",
   "metadata": {},
   "outputs": [],
   "source": [
    "# Exercise 9-3: Users\n",
    "# Make a class called User. Create two attributes called first_name and last_name,\n",
    "# and then create several other attributes that are typically stored in a user profile.\n",
    "# Make a method called describe_user() that prints a summary of the user's information.\n",
    "# Make another method called greet_user() that prints a personalized greeting to the user.\n",
    "# Create several instances representing different users, and call both methods for each user.\n",
    "\n",
    "# Here I will write the code and corresponding comments to complete the training tasks"
   ]
  },
  {
   "cell_type": "markdown",
   "id": "cc8a8f59",
   "metadata": {},
   "source": [
    "## 9-4 Number Served"
   ]
  },
  {
   "cell_type": "code",
   "execution_count": null,
   "id": "bd445194",
   "metadata": {},
   "outputs": [],
   "source": [
    "# Exercise 9-4: Number Served\n",
    "# Start with your program from Exercise 9-1. Add an attribute called number_served\n",
    "# with a default value of 0. Create an instance called restaurant from this class.\n",
    "# Print the number of customers the restaurant has served, and then change this value and print it again.\n",
    "# Add a method called set_number_served() that lets you set the number of customers that have been served.\n",
    "# Call this method with a new number and print the value again.\n",
    "# Add a method called increment_number_served() that lets you increment the number of customers who've been served.\n",
    "# Call this method with any number you like that could represent how many customers were served in, say, a day of business.\n",
    "\n",
    "# Here I will write the code and corresponding comments to complete the training tasks"
   ]
  },
  {
   "cell_type": "markdown",
   "id": "7967cf32",
   "metadata": {},
   "source": [
    "## 9-5 Login Attempts"
   ]
  },
  {
   "cell_type": "code",
   "execution_count": null,
   "id": "4a0dd47b",
   "metadata": {},
   "outputs": [],
   "source": [
    "# Exercise 9-5: Login Attempts\n",
    "# Add an attribute called login_attempts to your User class from Exercise 9-3.\n",
    "# Write a method called increment_login_attempts() that increments the value of login_attempts by 1.\n",
    "# Write another method called reset_login_attempts() that resets the value of login_attempts to 0.\n",
    "# Make an instance of the User class and call increment_login_attempts() several times.\n",
    "# Print the value of login_attempts to make sure it was incremented properly, and then call reset_login_attempts().\n",
    "# Print login_attempts again to make sure it was reset to 0.\n",
    "\n",
    "# Here I will write the code and corresponding comments to complete the training tasks"
   ]
  },
  {
   "cell_type": "markdown",
   "id": "f9c559d8",
   "metadata": {},
   "source": [
    "## 9-6 Ice Cream Stand"
   ]
  },
  {
   "cell_type": "code",
   "execution_count": null,
   "id": "a6745b14",
   "metadata": {},
   "outputs": [],
   "source": [
    "# Exercise 9-6: Ice Cream Stand\n",
    "# An ice cream stand is a specific kind of restaurant. Write a class called IceCreamStand\n",
    "# that inherits from the Restaurant class you wrote in Exercise 9-1 or Exercise 9-4.\n",
    "# Either version of the class will work; just pick the one you like better.\n",
    "# Add an attribute called flavors that stores a list of ice cream flavors.\n",
    "# Write a method that displays these flavors. Create an instance of IceCreamStand, and call this method.\n",
    "\n",
    "# Here I will write the code and corresponding comments to complete the training tasks"
   ]
  },
  {
   "cell_type": "markdown",
   "id": "7a975479",
   "metadata": {},
   "source": [
    "## 9-7 Admin"
   ]
  },
  {
   "cell_type": "code",
   "execution_count": null,
   "id": "5f7b79fa",
   "metadata": {},
   "outputs": [],
   "source": [
    "# Exercise 9-7: Admin\n",
    "# An administrator is a special kind of user. Write a class called Admin that inherits\n",
    "# from the User class you wrote in Exercise 9-3 or Exercise 9-5.\n",
    "# Add an attribute, privileges, that stores a list of strings like \"can add post\",\n",
    "# \"can delete post\", \"can ban user\", and so on.\n",
    "# Write a method called show_privileges() that lists the administrator's set of privileges.\n",
    "# Create an instance of Admin, and call your method.\n",
    "\n",
    "# Here I will write the code and corresponding comments to complete the training tasks"
   ]
  },
  {
   "cell_type": "markdown",
   "id": "6c29f5e9",
   "metadata": {},
   "source": [
    "## 9-8 Privileges"
   ]
  },
  {
   "cell_type": "code",
   "execution_count": null,
   "id": "fbdcd4cf",
   "metadata": {},
   "outputs": [],
   "source": [
    "# Exercise 9-8: Privileges\n",
    "# Write a separate Privileges class. The class should have one attribute, privileges,\n",
    "# that stores a list of strings as described in Exercise 9-7.\n",
    "# Move the show_privileges() method to this class. Make a Privileges instance as an attribute in the Admin class.\n",
    "# Create a new instance of Admin and use your method to show its privileges.\n",
    "\n",
    "# Here I will write the code and corresponding comments to complete the training tasks"
   ]
  },
  {
   "cell_type": "markdown",
   "id": "79fba904",
   "metadata": {},
   "source": [
    "## 9-9 Battery Upgrade"
   ]
  },
  {
   "cell_type": "code",
   "execution_count": null,
   "id": "ae4df770",
   "metadata": {},
   "outputs": [],
   "source": [
    "# Exercise 9-9: Battery Upgrade\n",
    "# Use the final version of electric_car.py from this section.\n",
    "# Add a method to the Battery class called upgrade_battery().\n",
    "# This method should check the battery size and set the capacity to 100 if it isn't already.\n",
    "# Make an electric car with a default battery size, call get_range() once,\n",
    "# and then call get_range() a second time after upgrading the battery.\n",
    "# You should see an increase in the car's range.\n",
    "\n",
    "# First, let's create the base Car and ElectricCar classes as shown in the book\n",
    "class Car:\n",
    "    \"\"\"A simple attempt to represent a car.\"\"\"\n",
    "    \n",
    "    def __init__(self, make, model, year):\n",
    "        self.make = make\n",
    "        self.model = model\n",
    "        self.year = year\n",
    "        self.odometer_reading = 0\n",
    "    \n",
    "    def get_descriptive_name(self):\n",
    "        long_name = f\"{self.year} {self.make} {self.model}\"\n",
    "        return long_name.title()\n",
    "    \n",
    "    def read_odometer(self):\n",
    "        print(f\"This car has {self.odometer_reading} miles on it.\")\n",
    "    \n",
    "    def update_odometer(self, mileage):\n",
    "        if mileage >= self.odometer_reading:\n",
    "            self.odometer_reading = mileage\n",
    "        else:\n",
    "            print(\"You can't roll back an odometer!\")\n",
    "    \n",
    "    def increment_odometer(self, miles):\n",
    "        self.odometer_reading += miles\n",
    "\n",
    "\n",
    "class Battery:\n",
    "    \"\"\"A simple attempt to model a battery for an electric car.\"\"\"\n",
    "    \n",
    "    def __init__(self, battery_size=75):\n",
    "        \"\"\"Initialize the battery's attributes.\"\"\"\n",
    "        self.battery_size = battery_size\n",
    "    \n",
    "    def describe_battery(self):\n",
    "        \"\"\"Print a statement describing the battery size.\"\"\"\n",
    "        print(f\"This car has a {self.battery_size}-kWh battery.\")\n",
    "    \n",
    "    def get_range(self):\n",
    "        \"\"\"Print a statement about the range this battery provides.\"\"\"\n",
    "        if self.battery_size == 75:\n",
    "            range_miles = 260\n",
    "        elif self.battery_size == 100:\n",
    "            range_miles = 315\n",
    "        \n",
    "        print(f\"This car can go about {range_miles} miles on a full charge.\")\n",
    "\n",
    "\n",
    "class ElectricCar(Car):\n",
    "    \"\"\"Represent aspects of a car, specific to electric vehicles.\"\"\"\n",
    "    \n",
    "    def __init__(self, make, model, year):\n",
    "        \"\"\"\n",
    "        Initialize attributes of the parent class.\n",
    "        Then initialize attributes specific to an electric car.\n",
    "        \"\"\"\n",
    "        super().__init__(make, model, year)\n",
    "        self.battery = Battery()\n",
    "\n",
    "# Here I will write the code and corresponding comments to complete the training tasks"
   ]
  },
  {
   "cell_type": "markdown",
   "id": "045d55be",
   "metadata": {},
   "source": [
    "## 9-10 Imported Restaurant"
   ]
  },
  {
   "cell_type": "code",
   "execution_count": null,
   "id": "154d320a",
   "metadata": {},
   "outputs": [],
   "source": [
    "# Exercise 9-10: Imported Restaurant\n",
    "# Using your latest Restaurant class, store it in a module. Make a separate file\n",
    "# that imports Restaurant. Make a restaurant instance, and call one of Restaurant's methods\n",
    "# to show that the import statement is working properly.\n",
    "\n",
    "# Note: In a Jupyter notebook, we'll simulate this by defining the class here\n",
    "# In practice, this would be in a separate .py file\n",
    "\n",
    "# Here I will write the code and corresponding comments to complete the training tasks"
   ]
  },
  {
   "cell_type": "markdown",
   "id": "e3c60bc8",
   "metadata": {},
   "source": [
    "## 9-11 Imported Admin"
   ]
  },
  {
   "cell_type": "code",
   "execution_count": null,
   "id": "27be39f0",
   "metadata": {},
   "outputs": [],
   "source": [
    "# Exercise 9-11: Imported Admin\n",
    "# Start with your work from Exercise 9-8. Store the classes User, Privileges, and Admin\n",
    "# in one module. Create a separate file, make an Admin instance, and call show_privileges()\n",
    "# to show that everything is working correctly.\n",
    "\n",
    "# Note: In a Jupyter notebook, we'll simulate this by defining the classes here\n",
    "# In practice, these would be in separate .py files\n",
    "\n",
    "# Here I will write the code and corresponding comments to complete the training tasks"
   ]
  },
  {
   "cell_type": "markdown",
   "id": "74565f1e",
   "metadata": {},
   "source": [
    "## 9-12 Multiple Modules"
   ]
  },
  {
   "cell_type": "code",
   "execution_count": null,
   "id": "daacad44",
   "metadata": {},
   "outputs": [],
   "source": [
    "# Exercise 9-12: Multiple Modules\n",
    "# Store the User class in one module, and store the Privileges and Admin classes in a separate module.\n",
    "# In a separate file, create an Admin instance and call show_privileges() to show that everything is still working correctly.\n",
    "\n",
    "# Note: In a Jupyter notebook, we'll simulate this by defining the classes in different cells\n",
    "# In practice, these would be in separate .py files\n",
    "\n",
    "# Here I will write the code and corresponding comments to complete the training tasks"
   ]
  },
  {
   "cell_type": "markdown",
   "id": "fcbadc43",
   "metadata": {},
   "source": [
    "## 9-13 Dice"
   ]
  },
  {
   "cell_type": "code",
   "execution_count": null,
   "id": "42dfdfac",
   "metadata": {},
   "outputs": [],
   "source": [
    "# Exercise 9-13: Dice\n",
    "# Make a class Die with one attribute called sides, which has a default value of 6.\n",
    "# Write a method called roll_die() that prints a random number between 1 and the number of sides the die has.\n",
    "# Make a 6-sided die and roll it 10 times.\n",
    "# Make a 10-sided die and a 20-sided die. Roll each die 10 times.\n",
    "\n",
    "# You'll need to import the random module for this exercise\n",
    "import random\n",
    "\n",
    "# Here I will write the code and corresponding comments to complete the training tasks"
   ]
  },
  {
   "cell_type": "markdown",
   "id": "d1ebbcfd",
   "metadata": {},
   "source": [
    "## 9-14 Lottery"
   ]
  },
  {
   "cell_type": "code",
   "execution_count": null,
   "id": "3319339a",
   "metadata": {},
   "outputs": [],
   "source": [
    "# Exercise 9-14: Lottery\n",
    "# Make a list or tuple containing a series of 10 numbers and 5 letters.\n",
    "# Randomly select 4 numbers or letters from the list and print a message saying that\n",
    "# any ticket matching these 4 numbers or letters wins a prize.\n",
    "\n",
    "import random\n",
    "\n",
    "# Here I will write the code and corresponding comments to complete the training tasks"
   ]
  },
  {
   "cell_type": "markdown",
   "id": "ef5df71e",
   "metadata": {},
   "source": [
    "## 9-15 Lottery Analysis"
   ]
  },
  {
   "cell_type": "code",
   "execution_count": null,
   "id": "cebe43ff",
   "metadata": {},
   "outputs": [],
   "source": [
    "# Exercise 9-15: Lottery Analysis\n",
    "# You can use a loop to see how hard it might be to win the kind of lottery you just modeled.\n",
    "# Make a list or tuple called my_ticket. Write a loop that keeps pulling numbers until your ticket wins.\n",
    "# Print a message reporting how many times the loop had to run to give you a winning ticket.\n",
    "\n",
    "import random\n",
    "\n",
    "# Here I will write the code and corresponding comments to complete the training tasks"
   ]
  },
  {
   "cell_type": "markdown",
   "id": "bf7bd18a",
   "metadata": {},
   "source": [
    "## 9-16 Python Module of the Week"
   ]
  },
  {
   "cell_type": "code",
   "execution_count": null,
   "id": "9ffdbc5c",
   "metadata": {},
   "outputs": [],
   "source": [
    "# Exercise 9-16: Python Module of the Week\n",
    "# One excellent resource for exploring the Python standard library is a site called\n",
    "# Python Module of the Week. Go to https://pymotw.com/ and look at the table of contents.\n",
    "# Find a module that looks interesting to you and read about it, or explore the documentation\n",
    "# for a module you know something about.\n",
    "\n",
    "# For this exercise, explore one of these interesting modules:\n",
    "# - collections: Specialized container datatypes\n",
    "# - datetime: Date and time handling\n",
    "# - pathlib: Object-oriented filesystem paths\n",
    "# - json: JSON encoder and decoder\n",
    "\n",
    "# Example: Let's explore the collections module\n",
    "from collections import Counter, defaultdict, namedtuple\n",
    "\n",
    "# Here I will write the code and corresponding comments to complete the training tasks"
   ]
  },
  {
   "cell_type": "markdown",
   "id": "4b0228ec",
   "metadata": {},
   "source": [
    "---\n",
    "\n",
    "## Summary\n",
    "\n",
    "Congratulations! You've completed all the exercises for Chapter 9 on Classes. You should now be comfortable with:\n",
    "\n",
    "- Creating classes with the `class` keyword\n",
    "- Defining `__init__()` methods to initialize instances\n",
    "- Creating instance attributes and methods\n",
    "- Using inheritance to create specialized classes\n",
    "- Overriding methods in child classes\n",
    "- Creating instances as attributes of other classes\n",
    "- Importing classes from modules\n",
    "- Working with the Python standard library\n",
    "\n",
    "**Key Concepts Practiced:**\n",
    "- Class definition syntax: `class ClassName:`\n",
    "- Instance creation and attribute access\n",
    "- Method definition and calling\n",
    "- Inheritance syntax: `class ChildClass(ParentClass):`\n",
    "- The `super()` function for accessing parent methods\n",
    "- Composition: using instances as attributes\n",
    "- Module organization and imports\n",
    "\n",
    "**Important Principles:**\n",
    "- Classes model real-world objects and concepts\n",
    "- Use descriptive class and method names\n",
    "- Keep classes focused on a single responsibility\n",
    "- Use inheritance to model \"is-a\" relationships\n",
    "- Use composition to model \"has-a\" relationships\n",
    "- Organize related classes into modules\n",
    "\n",
    "**Next Steps:**\n",
    "- Review any exercises you found challenging\n",
    "- Practice modeling real-world objects as classes\n",
    "- Experiment with more complex inheritance hierarchies\n",
    "- Move on to Chapter 10: Files and Exceptions\n",
    "\n",
    "---\n",
    "\n",
    "*Note: Classes are the foundation of object-oriented programming in Python. They help you organize code, model complex systems, and create reusable components. Master these concepts as they'll be essential for larger projects!*"
   ]
  }
 ],
 "metadata": {
  "language_info": {
   "name": "python"
  }
 },
 "nbformat": 4,
 "nbformat_minor": 5
}
