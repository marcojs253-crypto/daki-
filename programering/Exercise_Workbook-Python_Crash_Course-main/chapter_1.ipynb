{
 "cells": [
  {
   "cell_type": "markdown",
   "id": "d5f1ebb4",
   "metadata": {},
   "source": [
    "# Python Crash Course - Chapter 1: Getting Started\n",
    "\n",
    "This notebook contains exercises from Chapter 1 of Python Crash Course by Eric Matthes. Chapter 1 focuses on setting up your programming environment and running your first Python programs.\n",
    "\n",
    "## Learning Objectives:\n",
    "- Understand what programming is\n",
    "- Set up a Python programming environment\n",
    "- Run Python programs from a terminal\n",
    "- Troubleshoot installation issues\n",
    "- Use Python in different ways\n",
    "\n",
    "---\n",
    "\n",
    "## 1-1 python.org"
   ]
  },
  {
   "cell_type": "code",
   "execution_count": null,
   "id": "cb153365",
   "metadata": {},
   "outputs": [],
   "source": [
    "# Exercise 1-1: python.org\n",
    "# Explore the Python home page (https://python.org/) to find topics that interest you.\n",
    "# As you become familiar with Python, different parts of the site will be more useful to you.\n",
    "\n",
    "# This is more of an exploration exercise - visit python.org and explore!\n",
    "# You can use this cell to take notes about what you found interesting:\n",
    "\n",
    "# Notes from exploring python.org:\n",
    "# - \n",
    "# - \n",
    "# - \n",
    "\n",
    "print(\"Welcome to Python programming!\")\n",
    "print(\"Visit python.org to learn more about Python\")"
   ]
  },
  {
   "cell_type": "markdown",
   "id": "00fcb71e",
   "metadata": {},
   "source": [
    "## 1-2 Hello World Typos"
   ]
  },
  {
   "cell_type": "code",
   "execution_count": null,
   "id": "dc242c89",
   "metadata": {},
   "outputs": [],
   "source": [
    "# Exercise 1-2: Hello World Typos\n",
    "# Open the hello_world.py file you just created. Make a typo somewhere in the line\n",
    "# and run the program again. Can you make a typo that generates an error?\n",
    "# Can you make sense of the error message? Can you make a typo that doesn't generate an error?\n",
    "\n",
    "# Correct version:\n",
    "print(\"Hello World!\")\n",
    "\n",
    "# Try creating typos below and see what happens:\n",
    "# Uncomment the lines below one at a time to see different types of errors\n",
    "\n",
    "# Syntax error - missing closing quote:\n",
    "# print(\"Hello World!)\n",
    "\n",
    "# Syntax error - misspelled print:\n",
    "# prin(\"Hello World!\")\n",
    "\n",
    "# No error - extra spaces (Python ignores leading/trailing spaces in strings):\n",
    "# print(\"  Hello World!  \")\n",
    "\n",
    "# Here I will write the code and corresponding comments to complete the training tasks"
   ]
  },
  {
   "cell_type": "markdown",
   "id": "bf8913e7",
   "metadata": {},
   "source": [
    "## Terminal and Command Line Practice"
   ]
  },
  {
   "cell_type": "code",
   "execution_count": null,
   "id": "738ca17c",
   "metadata": {},
   "outputs": [],
   "source": [
    "# Terminal Practice\n",
    "# While this notebook runs in Jupyter, it's important to understand how to run Python\n",
    "# from the command line as well.\n",
    "\n",
    "# Practice commands (run these in your terminal outside of Jupyter):\n",
    "# python --version\n",
    "# python -c \"print('Hello from command line!')\"\n",
    "\n",
    "# In this notebook, let's verify our Python version:\n",
    "import sys\n",
    "print(f\"Python version: {sys.version}\")\n",
    "print(f\"Python executable: {sys.executable}\")"
   ]
  },
  {
   "cell_type": "markdown",
   "id": "90dba045",
   "metadata": {},
   "source": [
    "---\n",
    "\n",
    "## Summary\n",
    "\n",
    "Congratulations! You've completed Chapter 1 exercises. You should now understand:\n",
    "\n",
    "- How to explore Python resources\n",
    "- What different types of errors look like\n",
    "- How to run Python in different environments\n",
    "- Basic troubleshooting techniques\n",
    "\n",
    "**Key Concepts Practiced:**\n",
    "- Python syntax basics\n",
    "- Error recognition and debugging\n",
    "- Development environment familiarity\n",
    "\n",
    "**Next Steps:**\n",
    "- Move on to Chapter 2: Variables and Simple Data Types\n",
    "- Practice running Python code in different ways\n",
    "- Familiarize yourself with error messages\n",
    "\n",
    "---\n",
    "\n",
    "*Note: Chapter 1 is primarily about setup and getting familiar with Python. Most exercises are exploratory rather than coding-heavy.*"
   ]
  }
 ],
 "metadata": {
  "language_info": {
   "name": "python"
  }
 },
 "nbformat": 4,
 "nbformat_minor": 5
}
